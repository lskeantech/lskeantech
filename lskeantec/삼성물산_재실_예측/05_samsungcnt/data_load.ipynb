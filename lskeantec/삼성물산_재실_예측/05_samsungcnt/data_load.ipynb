{
 "cells": [
  {
   "cell_type": "code",
   "execution_count": 2,
   "metadata": {},
   "outputs": [],
   "source": [
    "import pandas as pd\n",
    "from DataPreprocessor import DataPreprocessor\n",
    "import pymysql"
   ]
  },
  {
   "cell_type": "code",
   "execution_count": 3,
   "metadata": {},
   "outputs": [],
   "source": [
    "# !pip install sqlalchemy\n",
    "# !pip install python-dotenv\n"
   ]
  },
  {
   "cell_type": "code",
   "execution_count": 4,
   "metadata": {},
   "outputs": [],
   "source": [
    "start_date = '2024-09-01'\n",
    "end_date = '2024-11-20'\n",
    "floor = '5'\n",
    "zone_side = '북동측'"
   ]
  },
  {
   "cell_type": "code",
   "execution_count": 5,
   "metadata": {},
   "outputs": [],
   "source": [
    "# 동적 쿼리\n",
    "query = f\"\"\"\n",
    "WITH energy_data AS (\n",
    "    SELECT TO_CHAR(DATE_TRUNC('hour', zpd.recorded_at) +\n",
    "                    INTERVAL '15 min' * (EXTRACT(MINUTE FROM zpd.recorded_at)::INTEGER / 15),\n",
    "                    'YYYY-MM-DD HH24:MI') AS timerange,\n",
    "            zpd.zone_prepared_data_plug_usage AS plug_use,\n",
    "            zpd.zone_prepared_data_lighting_usage AS light_use,\n",
    "            zpd.zone_prepared_data_ventilation_usage AS ventilation_use,\n",
    "            zpd.zone_prepared_data_heating_usage AS heating_use,\n",
    "            zpd.zone_prepared_data_cooling_usage AS cooling_use\n",
    "    FROM v2.zone_prepared_data zpd\n",
    "            JOIN v2.zone z ON zpd.zone_id = z.zone_id\n",
    "    WHERE z.zone_name LIKE '%{floor}F {zone_side}%'  -- floor와 zone_side를 동적으로 설정\n",
    "        AND zpd.recorded_at >= '{start_date}'\n",
    "        AND zpd.recorded_at < '{end_date}'\n",
    "),\n",
    "environment_data AS (\n",
    "    SELECT TO_CHAR(DATE_TRUNC('hour', ed.recorded_at) +\n",
    "                    INTERVAL '15 min' * (EXTRACT(MINUTE FROM ed.recorded_at)::INTEGER / 15),\n",
    "                    'YYYY-MM-DD HH24:MI') AS timerange,\n",
    "            AVG(CASE WHEN mp.measurement_point_subtype = 'temperature' THEN ed.environment_data_value END) AS temperature,\n",
    "            AVG(CASE WHEN mp.measurement_point_subtype = 'humidity' THEN ed.environment_data_value END) AS humidity,\n",
    "            AVG(CASE WHEN mp.measurement_point_subtype = 'co2' THEN ed.environment_data_value END) AS co2,\n",
    "            AVG(CASE WHEN mp.measurement_point_subtype = 'pm10' THEN ed.environment_data_value END) AS pm10,\n",
    "            AVG(CASE WHEN mp.measurement_point_subtype = 'pm25' THEN ed.environment_data_value END) AS pm25,\n",
    "            AVG(CASE WHEN mp.measurement_point_subtype = 'tvoc' THEN ed.environment_data_value END) AS tvoc,\n",
    "            AVG(CASE WHEN mp.measurement_point_subtype = 'illuminance' THEN ed.environment_data_value END) AS illuminance\n",
    "    FROM v2.environment_data ed\n",
    "            JOIN v2.measurement_point mp ON ed.measurement_point_id = mp.measurement_point_id\n",
    "            JOIN v2.zone z ON mp.environment_sensor_device_zone_id = z.zone_id\n",
    "    WHERE z.zone_name LIKE '%{floor}F {zone_side}%'  -- floor와 zone_side를 동적으로 설정\n",
    "        AND ed.recorded_at >= '{start_date}'\n",
    "        AND ed.recorded_at < '{end_date}'\n",
    "    GROUP BY timerange\n",
    ")\n",
    "SELECT ed.*,\n",
    "        env.temperature AS temperature_15min_avg,\n",
    "        env.humidity AS humidity_15min_avg,\n",
    "        env.co2 AS co2_15min_avg,\n",
    "        env.pm10 AS pm10_15min_avg,\n",
    "        env.pm25 AS pm25_15min_avg,\n",
    "        env.tvoc AS tvoc_15min_avg,\n",
    "        env.illuminance AS illuminance_15min_avg\n",
    "FROM energy_data ed\n",
    "        JOIN environment_data env ON ed.timerange = env.timerange;\n",
    "\"\"\""
   ]
  },
  {
   "cell_type": "code",
   "execution_count": null,
   "metadata": {},
   "outputs": [
    {
     "name": "stdout",
     "output_type": "stream",
     "text": [
      "SSH 터널 활성화됨 - 로컬 포트: 55028\n"
     ]
    }
   ],
   "source": [
    "procs = DataPreprocessor(column_name=\"plug_use\")\n",
    "procs.load_data(query_template=query)"
   ]
  },
  {
   "cell_type": "code",
   "execution_count": null,
   "metadata": {},
   "outputs": [],
   "source": [
    "raw_data = procs.df.copy()"
   ]
  },
  {
   "cell_type": "code",
   "execution_count": null,
   "metadata": {},
   "outputs": [
    {
     "data": {
      "text/html": [
       "<div>\n",
       "<style scoped>\n",
       "    .dataframe tbody tr th:only-of-type {\n",
       "        vertical-align: middle;\n",
       "    }\n",
       "\n",
       "    .dataframe tbody tr th {\n",
       "        vertical-align: top;\n",
       "    }\n",
       "\n",
       "    .dataframe thead th {\n",
       "        text-align: right;\n",
       "    }\n",
       "</style>\n",
       "<table border=\"1\" class=\"dataframe\">\n",
       "  <thead>\n",
       "    <tr style=\"text-align: right;\">\n",
       "      <th></th>\n",
       "      <th>plug_use</th>\n",
       "      <th>light_use</th>\n",
       "      <th>ventilation_use</th>\n",
       "      <th>heating_use</th>\n",
       "      <th>cooling_use</th>\n",
       "      <th>temperature_15min_avg</th>\n",
       "      <th>humidity_15min_avg</th>\n",
       "      <th>co2_15min_avg</th>\n",
       "      <th>pm10_15min_avg</th>\n",
       "      <th>pm25_15min_avg</th>\n",
       "      <th>tvoc_15min_avg</th>\n",
       "      <th>illuminance_15min_avg</th>\n",
       "    </tr>\n",
       "    <tr>\n",
       "      <th>timerange</th>\n",
       "      <th></th>\n",
       "      <th></th>\n",
       "      <th></th>\n",
       "      <th></th>\n",
       "      <th></th>\n",
       "      <th></th>\n",
       "      <th></th>\n",
       "      <th></th>\n",
       "      <th></th>\n",
       "      <th></th>\n",
       "      <th></th>\n",
       "      <th></th>\n",
       "    </tr>\n",
       "  </thead>\n",
       "  <tbody>\n",
       "    <tr>\n",
       "      <th>2024-09-01 09:00:00</th>\n",
       "      <td>0.128581</td>\n",
       "      <td>0.0</td>\n",
       "      <td>0.006304</td>\n",
       "      <td>0.001804</td>\n",
       "      <td>0.042059</td>\n",
       "      <td>27.088889</td>\n",
       "      <td>66.964445</td>\n",
       "      <td>426.977778</td>\n",
       "      <td>11.955556</td>\n",
       "      <td>11.511111</td>\n",
       "      <td>583.866667</td>\n",
       "      <td>2.488889</td>\n",
       "    </tr>\n",
       "    <tr>\n",
       "      <th>2024-09-01 09:15:00</th>\n",
       "      <td>0.127297</td>\n",
       "      <td>0.0</td>\n",
       "      <td>0.005500</td>\n",
       "      <td>0.001815</td>\n",
       "      <td>0.042465</td>\n",
       "      <td>27.017778</td>\n",
       "      <td>67.095555</td>\n",
       "      <td>426.733333</td>\n",
       "      <td>11.711111</td>\n",
       "      <td>11.311111</td>\n",
       "      <td>574.488889</td>\n",
       "      <td>2.400000</td>\n",
       "    </tr>\n",
       "    <tr>\n",
       "      <th>2024-09-01 09:30:00</th>\n",
       "      <td>0.129991</td>\n",
       "      <td>0.0</td>\n",
       "      <td>0.005750</td>\n",
       "      <td>0.001813</td>\n",
       "      <td>0.042222</td>\n",
       "      <td>26.964445</td>\n",
       "      <td>67.231111</td>\n",
       "      <td>425.800000</td>\n",
       "      <td>11.288889</td>\n",
       "      <td>10.911111</td>\n",
       "      <td>564.288889</td>\n",
       "      <td>2.488889</td>\n",
       "    </tr>\n",
       "    <tr>\n",
       "      <th>2024-09-01 09:45:00</th>\n",
       "      <td>0.097439</td>\n",
       "      <td>0.0</td>\n",
       "      <td>0.006488</td>\n",
       "      <td>0.001814</td>\n",
       "      <td>0.042451</td>\n",
       "      <td>26.922223</td>\n",
       "      <td>67.346666</td>\n",
       "      <td>425.355556</td>\n",
       "      <td>10.733333</td>\n",
       "      <td>10.555556</td>\n",
       "      <td>551.355556</td>\n",
       "      <td>2.444444</td>\n",
       "    </tr>\n",
       "    <tr>\n",
       "      <th>2024-09-01 10:00:00</th>\n",
       "      <td>0.128581</td>\n",
       "      <td>0.0</td>\n",
       "      <td>0.005517</td>\n",
       "      <td>0.001813</td>\n",
       "      <td>0.042232</td>\n",
       "      <td>26.857778</td>\n",
       "      <td>67.477776</td>\n",
       "      <td>425.044444</td>\n",
       "      <td>10.577778</td>\n",
       "      <td>10.400000</td>\n",
       "      <td>537.666667</td>\n",
       "      <td>2.577778</td>\n",
       "    </tr>\n",
       "  </tbody>\n",
       "</table>\n",
       "</div>"
      ],
      "text/plain": [
       "                     plug_use  light_use  ventilation_use  heating_use  \\\n",
       "timerange                                                                \n",
       "2024-09-01 09:00:00  0.128581        0.0         0.006304     0.001804   \n",
       "2024-09-01 09:15:00  0.127297        0.0         0.005500     0.001815   \n",
       "2024-09-01 09:30:00  0.129991        0.0         0.005750     0.001813   \n",
       "2024-09-01 09:45:00  0.097439        0.0         0.006488     0.001814   \n",
       "2024-09-01 10:00:00  0.128581        0.0         0.005517     0.001813   \n",
       "\n",
       "                     cooling_use  temperature_15min_avg  humidity_15min_avg  \\\n",
       "timerange                                                                     \n",
       "2024-09-01 09:00:00     0.042059              27.088889           66.964445   \n",
       "2024-09-01 09:15:00     0.042465              27.017778           67.095555   \n",
       "2024-09-01 09:30:00     0.042222              26.964445           67.231111   \n",
       "2024-09-01 09:45:00     0.042451              26.922223           67.346666   \n",
       "2024-09-01 10:00:00     0.042232              26.857778           67.477776   \n",
       "\n",
       "                     co2_15min_avg  pm10_15min_avg  pm25_15min_avg  \\\n",
       "timerange                                                            \n",
       "2024-09-01 09:00:00     426.977778       11.955556       11.511111   \n",
       "2024-09-01 09:15:00     426.733333       11.711111       11.311111   \n",
       "2024-09-01 09:30:00     425.800000       11.288889       10.911111   \n",
       "2024-09-01 09:45:00     425.355556       10.733333       10.555556   \n",
       "2024-09-01 10:00:00     425.044444       10.577778       10.400000   \n",
       "\n",
       "                     tvoc_15min_avg  illuminance_15min_avg  \n",
       "timerange                                                   \n",
       "2024-09-01 09:00:00      583.866667               2.488889  \n",
       "2024-09-01 09:15:00      574.488889               2.400000  \n",
       "2024-09-01 09:30:00      564.288889               2.488889  \n",
       "2024-09-01 09:45:00      551.355556               2.444444  \n",
       "2024-09-01 10:00:00      537.666667               2.577778  "
      ]
     },
     "execution_count": 30,
     "metadata": {},
     "output_type": "execute_result"
    }
   ],
   "source": [
    "raw_data.head()"
   ]
  },
  {
   "cell_type": "code",
   "execution_count": null,
   "metadata": {},
   "outputs": [
    {
     "data": {
      "text/plain": [
       "(7546, 12)"
      ]
     },
     "execution_count": 31,
     "metadata": {},
     "output_type": "execute_result"
    }
   ],
   "source": [
    "raw_data.shape"
   ]
  },
  {
   "cell_type": "code",
   "execution_count": null,
   "metadata": {},
   "outputs": [
    {
     "data": {
      "text/plain": [
       "Index(['plug_use', 'light_use', 'ventilation_use', 'heating_use',\n",
       "       'cooling_use', 'temperature_15min_avg', 'humidity_15min_avg',\n",
       "       'co2_15min_avg', 'pm10_15min_avg', 'pm25_15min_avg', 'tvoc_15min_avg',\n",
       "       'illuminance_15min_avg'],\n",
       "      dtype='object')"
      ]
     },
     "execution_count": 32,
     "metadata": {},
     "output_type": "execute_result"
    }
   ],
   "source": [
    "raw_data.columns"
   ]
  },
  {
   "cell_type": "code",
   "execution_count": null,
   "metadata": {},
   "outputs": [],
   "source": [
    "RAW_DATA_PATH = f'C:/Users/User/Desktop/바탕화면/승건/데사팀/lskeantech_code/lskeantec/삼성물산_재실_예측/data/{floor}F_{zone_side}.pkl'"
   ]
  },
  {
   "cell_type": "code",
   "execution_count": null,
   "metadata": {},
   "outputs": [
    {
     "name": "stdout",
     "output_type": "stream",
     "text": [
      "Raw data saved to C:/Users/User/Desktop/바탕화면/승건/데사팀/lskeantech_code/lskeantec/삼성물산_재실_예측/data/5F_남서측.csv\n"
     ]
    }
   ],
   "source": [
    "# 데이터 저장\n",
    "raw_data.to_pickle(RAW_DATA_PATH)\n",
    "print(f\"Raw data saved to {RAW_DATA_PATH}\")"
   ]
  },
  {
   "cell_type": "code",
   "execution_count": null,
   "metadata": {},
   "outputs": [],
   "source": []
  }
 ],
 "metadata": {
  "kernelspec": {
   "display_name": "occupancyAI",
   "language": "python",
   "name": "python3"
  },
  "language_info": {
   "codemirror_mode": {
    "name": "ipython",
    "version": 3
   },
   "file_extension": ".py",
   "mimetype": "text/x-python",
   "name": "python",
   "nbconvert_exporter": "python",
   "pygments_lexer": "ipython3",
   "version": "3.9.20"
  }
 },
 "nbformat": 4,
 "nbformat_minor": 2
}
